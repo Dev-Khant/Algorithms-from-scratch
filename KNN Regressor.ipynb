{
 "cells": [
  {
   "cell_type": "code",
   "execution_count": 1,
   "metadata": {},
   "outputs": [
    {
     "data": {
      "text/html": [
       "<div>\n",
       "<style scoped>\n",
       "    .dataframe tbody tr th:only-of-type {\n",
       "        vertical-align: middle;\n",
       "    }\n",
       "\n",
       "    .dataframe tbody tr th {\n",
       "        vertical-align: top;\n",
       "    }\n",
       "\n",
       "    .dataframe thead th {\n",
       "        text-align: right;\n",
       "    }\n",
       "</style>\n",
       "<table border=\"1\" class=\"dataframe\">\n",
       "  <thead>\n",
       "    <tr style=\"text-align: right;\">\n",
       "      <th></th>\n",
       "      <th>carat</th>\n",
       "      <th>cut</th>\n",
       "      <th>color</th>\n",
       "      <th>clarity</th>\n",
       "      <th>depth</th>\n",
       "      <th>table</th>\n",
       "      <th>price</th>\n",
       "      <th>x</th>\n",
       "      <th>y</th>\n",
       "      <th>z</th>\n",
       "    </tr>\n",
       "  </thead>\n",
       "  <tbody>\n",
       "    <tr>\n",
       "      <th>count</th>\n",
       "      <td>53940</td>\n",
       "      <td>53940</td>\n",
       "      <td>53940</td>\n",
       "      <td>53940</td>\n",
       "      <td>53940</td>\n",
       "      <td>53940</td>\n",
       "      <td>53940</td>\n",
       "      <td>53940</td>\n",
       "      <td>53940</td>\n",
       "      <td>53940</td>\n",
       "    </tr>\n",
       "    <tr>\n",
       "      <th>unique</th>\n",
       "      <td>273</td>\n",
       "      <td>5</td>\n",
       "      <td>7</td>\n",
       "      <td>8</td>\n",
       "      <td>184</td>\n",
       "      <td>127</td>\n",
       "      <td>11602</td>\n",
       "      <td>554</td>\n",
       "      <td>552</td>\n",
       "      <td>375</td>\n",
       "    </tr>\n",
       "    <tr>\n",
       "      <th>top</th>\n",
       "      <td>0.3</td>\n",
       "      <td>Ideal</td>\n",
       "      <td>G</td>\n",
       "      <td>SI1</td>\n",
       "      <td>62</td>\n",
       "      <td>56</td>\n",
       "      <td>605</td>\n",
       "      <td>4.37</td>\n",
       "      <td>4.34</td>\n",
       "      <td>2.7</td>\n",
       "    </tr>\n",
       "    <tr>\n",
       "      <th>freq</th>\n",
       "      <td>2604</td>\n",
       "      <td>21551</td>\n",
       "      <td>11292</td>\n",
       "      <td>13065</td>\n",
       "      <td>2239</td>\n",
       "      <td>9881</td>\n",
       "      <td>132</td>\n",
       "      <td>448</td>\n",
       "      <td>437</td>\n",
       "      <td>767</td>\n",
       "    </tr>\n",
       "  </tbody>\n",
       "</table>\n",
       "</div>"
      ],
      "text/plain": [
       "        carat    cut  color clarity  depth  table  price      x      y      z\n",
       "count   53940  53940  53940   53940  53940  53940  53940  53940  53940  53940\n",
       "unique    273      5      7       8    184    127  11602    554    552    375\n",
       "top       0.3  Ideal      G     SI1     62     56    605   4.37   4.34    2.7\n",
       "freq     2604  21551  11292   13065   2239   9881    132    448    437    767"
      ]
     },
     "execution_count": 1,
     "metadata": {},
     "output_type": "execute_result"
    }
   ],
   "source": [
    "# To read data from diamonds.csv\n",
    "import pandas as pd\n",
    "import numpy as np\n",
    "import math\n",
    "from sklearn.model_selection import train_test_split\n",
    "import matplotlib.pyplot as plt\n",
    "\n",
    "headers = [\"carat\",\"cut\",\"color\",\"clarity\",\"depth\",\"table\",\"price\",\"x\",\"y\",\"z\"]\n",
    "data = pd.read_csv('diamonds.csv', na_values='?',    \n",
    "         header=None,  names = headers) \n",
    "data = data.reset_index(drop=True)\n",
    "data = data.iloc[1:]\n",
    "data.describe()\n",
    "#print(data) "
   ]
  },
  {
   "cell_type": "code",
   "execution_count": 2,
   "metadata": {},
   "outputs": [],
   "source": [
    "x = data.drop(['price'], axis=1)\n",
    "y = data['price']\n",
    "\n",
    "#Encoding Categorical Data \n",
    "handle_cut = {'cut': {'Fair':1 ,'Good':2 ,'Very Good':3 ,'Premium': 4,'Ideal': 5 } }\n",
    "handle_color = {'color': {'J':1 ,'I':2 ,'H':3 ,'G': 4 ,'F':5 ,'E':6 ,'D':7 } }\n",
    "handle_clarity = {'clarity': {'I1':1 ,'SI2':2 ,'SI1':3 ,'VS2':4 ,'VS1':5 ,'VVS2':6 ,'VVS1':7 ,'IF':8 } }\n",
    "x.replace(handle_cut, inplace=True)\n",
    "x.replace(handle_color, inplace=True)\n",
    "x.replace(handle_clarity, inplace=True)\n",
    "\n",
    "#scaling \n",
    "columns_scaling = ['carat','depth','table','x','y','z','cut','color','clarity']\n",
    "for col in columns_scaling:\n",
    "    x[col] = x[col].astype(float)\n",
    "    carat_min = x[col].min()\n",
    "    carat_max = x[col].max()\n",
    "    x[col] = (x[col]-carat_min)/(carat_max-carat_min)"
   ]
  },
  {
   "cell_type": "code",
   "execution_count": 3,
   "metadata": {},
   "outputs": [],
   "source": [
    "#splitting\n",
    "train_x,tt_x,train_y,tt_y = train_test_split(x,y, test_size=0.2, random_state=1)\n",
    "validate_x,test_x,validate_y,test_y = train_test_split(tt_x,tt_y, test_size=0.5, random_state=1)\n",
    "#print(x.shape,train_y.shape,test_y.shape,validate_y.shape)\n",
    "\n",
    "#modelling\n",
    "train_x = train_x.to_numpy()\n",
    "train_y = train_y.astype(float)\n",
    "train_y = train_y.to_numpy()\n",
    "validate_x = validate_x.to_numpy()\n",
    "validate_y = validate_y.astype(float)\n",
    "validate_y = validate_y.to_numpy()\n",
    "test_x = test_x.to_numpy()\n",
    "test_y = test_y.astype(float)\n",
    "test_y = test_y.to_numpy()\n",
    "testt_y = test_y"
   ]
  },
  {
   "cell_type": "code",
   "execution_count": 4,
   "metadata": {},
   "outputs": [],
   "source": [
    "# Creating Knn \n",
    "\n",
    "class knn:\n",
    "    \n",
    "    def fit(x,y,z):\n",
    "        global xt\n",
    "        xt = x\n",
    "        global yt\n",
    "        yt = y\n",
    "        global k\n",
    "        k = z\n",
    "        \n",
    "    def predict(xtes):\n",
    "        final = []\n",
    "        for i in range(xtes.shape[0]):\n",
    "            d = dict()\n",
    "            for j in range(xt.shape[0]):\n",
    "                value = yt[j]\n",
    "#               Using Manhattan Distance\n",
    "                diff= np.absolute(xtes[i]-xt[j]).sum()\n",
    "    \n",
    "#               Using Euclidean Distance\n",
    "#                 diff = np.power(xtes[i]-xt[j],2).sum()\n",
    "#                 diff = math.sqrt(diff) \n",
    "\n",
    "                d[diff] = value\n",
    "                \n",
    "            a = sorted(d.keys())\n",
    "            arr = []\n",
    "            for i in range(k):\n",
    "                arr.append(d[a[i]])\n",
    "                \n",
    "            final.append(np.mean(arr))\n",
    "        \n",
    "        return final"
   ]
  },
  {
   "cell_type": "code",
   "execution_count": 5,
   "metadata": {},
   "outputs": [],
   "source": [
    "# Calling function\n",
    "\n",
    "knn.fit(train_x,train_y,5)\n",
    "pred = knn.predict(test_x)"
   ]
  },
  {
   "cell_type": "code",
   "execution_count": 6,
   "metadata": {},
   "outputs": [],
   "source": [
    "# Defining error metrics \n",
    "\n",
    "def mse(p,y):\n",
    "    \n",
    "    error = np.power(p - y,2).sum() \n",
    "    error = error/y.shape[0]\n",
    "    return error\n",
    "\n",
    "\n",
    "def mae(p,y):\n",
    "    \n",
    "    error = np.absolute(p - y).sum()\n",
    "    error = error / y.shape[0]\n",
    "    return error\n",
    "\n",
    "\n",
    "def rsquared(p,y):\n",
    "\n",
    "    error = np.corrcoef(p,y)\n",
    "    error = error[0,1]\n",
    "    rsq=error**2\n",
    "    return rsq"
   ]
  },
  {
   "cell_type": "code",
   "execution_count": 7,
   "metadata": {},
   "outputs": [
    {
     "data": {
      "text/plain": [
       "[<matplotlib.lines.Line2D at 0x1e2ea0b38b0>]"
      ]
     },
     "execution_count": 7,
     "metadata": {},
     "output_type": "execute_result"
    },
    {
     "data": {
      "image/png": "[encoded data removed]",
      "text/plain": [
       "<Figure size 432x288 with 1 Axes>"
      ]
     },
     "metadata": {
      "needs_background": "light"
     },
     "output_type": "display_data"
    }
   ],
   "source": [
    "# plot\n",
    "euclidean_dist = np.sum(train_x**2,axis=1) + np.sum(validate_x**2, axis=1)[:, np.newaxis] - 2*np.dot(validate_x,train_x.T)\n",
    "k_values=[2,3,5,7,11,16]\n",
    "r2_values = list()\n",
    "for k in k_values:\n",
    "    estimated_euclidean_price = np.zeros(validate_y.shape[0])\n",
    "    for i in range(validate_y.shape[0]):\n",
    "        k_nearest_neighbours = np.argpartition(euclidean_dist[i], k)[:k]\n",
    "        estimated_euclidean_price[i] = (train_y[k_nearest_neighbours].sum())/k\n",
    "    \n",
    "    r2_values.append(rsquared(estimated_euclidean_price,validate_y))\n",
    "#print(k_values,r2_values)\n",
    "plt.plot(k_values,r2_values)"
   ]
  },
  {
   "cell_type": "code",
   "execution_count": 8,
   "metadata": {},
   "outputs": [
    {
     "data": {
      "text/html": [
       "<div>\n",
       "<style scoped>\n",
       "    .dataframe tbody tr th:only-of-type {\n",
       "        vertical-align: middle;\n",
       "    }\n",
       "\n",
       "    .dataframe tbody tr th {\n",
       "        vertical-align: top;\n",
       "    }\n",
       "\n",
       "    .dataframe thead th {\n",
       "        text-align: right;\n",
       "    }\n",
       "</style>\n",
       "<table border=\"1\" class=\"dataframe\">\n",
       "  <thead>\n",
       "    <tr style=\"text-align: right;\">\n",
       "      <th></th>\n",
       "      <th>mse</th>\n",
       "      <th>mae</th>\n",
       "      <th>r2_score</th>\n",
       "    </tr>\n",
       "  </thead>\n",
       "  <tbody>\n",
       "    <tr>\n",
       "      <th>euclidean</th>\n",
       "      <td>516963.616129</td>\n",
       "      <td>368.489766</td>\n",
       "      <td>0.966593</td>\n",
       "    </tr>\n",
       "    <tr>\n",
       "      <th>manhattan</th>\n",
       "      <td>434803.402944</td>\n",
       "      <td>343.049129</td>\n",
       "      <td>0.971811</td>\n",
       "    </tr>\n",
       "  </tbody>\n",
       "</table>\n",
       "</div>"
      ],
      "text/plain": [
       "                     mse         mae  r2_score\n",
       "euclidean  516963.616129  368.489766  0.966593\n",
       "manhattan  434803.402944  343.049129  0.971811"
      ]
     },
     "execution_count": 8,
     "metadata": {},
     "output_type": "execute_result"
    }
   ],
   "source": [
    "# table of mse , mae , rsquared errors\n",
    "\n",
    "# k=5 gives least mse, mae and highest rsquared error\n",
    "\n",
    "d = {\"mse\":[516963.6161290323 , 434803.40294401185],\n",
    "    \"mae\":[368.4897664071191 , 343.0491286614757],\n",
    "    \"r2_score\":[0.9665926611886084,0.9718111969654643]}\n",
    "\n",
    "table = pd.DataFrame(d,index=['euclidean','manhattan'])\n",
    "table"
   ]
  }
 ],
 "metadata": {
  "kernelspec": {
   "display_name": "Python 3.8.3 64-bit",
   "language": "python",
   "name": "python38364bit8e6f55aba2f541b0b5eb6cfa27dcc9bd"
  },
  "language_info": {
   "codemirror_mode": {
    "name": "ipython",
    "version": 3
   },
   "file_extension": ".py",
   "mimetype": "text/x-python",
   "name": "python",
   "nbconvert_exporter": "python",
   "pygments_lexer": "ipython3",
   "version": "3.8.3rc1"
  }
 },
 "nbformat": 4,
 "nbformat_minor": 4
}
