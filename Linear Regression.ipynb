{
 "cells": [
  {
   "cell_type": "code",
   "execution_count": 1,
   "metadata": {},
   "outputs": [
    {
     "data": {
      "text/html": [
       "<div>\n",
       "<style scoped>\n",
       "    .dataframe tbody tr th:only-of-type {\n",
       "        vertical-align: middle;\n",
       "    }\n",
       "\n",
       "    .dataframe tbody tr th {\n",
       "        vertical-align: top;\n",
       "    }\n",
       "\n",
       "    .dataframe thead th {\n",
       "        text-align: right;\n",
       "    }\n",
       "</style>\n",
       "<table border=\"1\" class=\"dataframe\">\n",
       "  <thead>\n",
       "    <tr style=\"text-align: right;\">\n",
       "      <th></th>\n",
       "      <th>carat</th>\n",
       "      <th>cut</th>\n",
       "      <th>color</th>\n",
       "      <th>clarity</th>\n",
       "      <th>depth</th>\n",
       "      <th>table</th>\n",
       "      <th>price</th>\n",
       "      <th>x</th>\n",
       "      <th>y</th>\n",
       "      <th>z</th>\n",
       "    </tr>\n",
       "  </thead>\n",
       "  <tbody>\n",
       "    <tr>\n",
       "      <th>count</th>\n",
       "      <td>53940</td>\n",
       "      <td>53940</td>\n",
       "      <td>53940</td>\n",
       "      <td>53940</td>\n",
       "      <td>53940</td>\n",
       "      <td>53940</td>\n",
       "      <td>53940</td>\n",
       "      <td>53940</td>\n",
       "      <td>53940</td>\n",
       "      <td>53940</td>\n",
       "    </tr>\n",
       "    <tr>\n",
       "      <th>unique</th>\n",
       "      <td>273</td>\n",
       "      <td>5</td>\n",
       "      <td>7</td>\n",
       "      <td>8</td>\n",
       "      <td>184</td>\n",
       "      <td>127</td>\n",
       "      <td>11602</td>\n",
       "      <td>554</td>\n",
       "      <td>552</td>\n",
       "      <td>375</td>\n",
       "    </tr>\n",
       "    <tr>\n",
       "      <th>top</th>\n",
       "      <td>0.3</td>\n",
       "      <td>Ideal</td>\n",
       "      <td>G</td>\n",
       "      <td>SI1</td>\n",
       "      <td>62</td>\n",
       "      <td>56</td>\n",
       "      <td>605</td>\n",
       "      <td>4.37</td>\n",
       "      <td>4.34</td>\n",
       "      <td>2.7</td>\n",
       "    </tr>\n",
       "    <tr>\n",
       "      <th>freq</th>\n",
       "      <td>2604</td>\n",
       "      <td>21551</td>\n",
       "      <td>11292</td>\n",
       "      <td>13065</td>\n",
       "      <td>2239</td>\n",
       "      <td>9881</td>\n",
       "      <td>132</td>\n",
       "      <td>448</td>\n",
       "      <td>437</td>\n",
       "      <td>767</td>\n",
       "    </tr>\n",
       "  </tbody>\n",
       "</table>\n",
       "</div>"
      ],
      "text/plain": [
       "        carat    cut  color clarity  depth  table  price      x      y      z\n",
       "count   53940  53940  53940   53940  53940  53940  53940  53940  53940  53940\n",
       "unique    273      5      7       8    184    127  11602    554    552    375\n",
       "top       0.3  Ideal      G     SI1     62     56    605   4.37   4.34    2.7\n",
       "freq     2604  21551  11292   13065   2239   9881    132    448    437    767"
      ]
     },
     "execution_count": 1,
     "metadata": {},
     "output_type": "execute_result"
    }
   ],
   "source": [
    "# To read data from diamonds.csv\n",
    "import pandas as pd\n",
    "import numpy as np\n",
    "import scipy\n",
    "import math\n",
    "from sklearn.model_selection import train_test_split\n",
    "headers = [\"carat\",\"cut\",\"color\",\"clarity\",\"depth\",\"table\",\"price\",\"x\",\"y\",\"z\"]\n",
    "data = pd.read_csv('diamonds.csv', na_values='?',    \n",
    "         header=None,  names = headers) \n",
    "data = data.reset_index(drop=True)\n",
    "data = data.iloc[1:]\n",
    "data.describe()\n",
    "#print(data) "
   ]
  },
  {
   "cell_type": "code",
   "execution_count": 2,
   "metadata": {},
   "outputs": [],
   "source": [
    "# Defining x and y\n",
    "x = data.drop(['price'], axis=1)\n",
    "y = data['price']\n",
    "\n",
    "#x.shape, y.shape\n",
    "x = x.drop(x[x[\"x\"]==0].index)\n",
    "x = x.drop(x[x[\"y\"]==0].index)\n",
    "x = x.drop(x[x[\"z\"]==0].index)\n",
    "\n",
    "#Encoding Categorical Data \n",
    "handle_cut = {'cut': {'Fair':1 ,'Good':2 ,'Very Good':3 ,'Premium': 4,'Ideal': 5 } }\n",
    "handle_color = {'color': {'J':1 ,'I':2 ,'H':3 ,'G': 4 ,'F':5 ,'E':6 ,'D':7 } }\n",
    "handle_clarity = {'clarity': {'I1':1 ,'SI2':2 ,'SI1':3 ,'VS2':4 ,'VS1':5 ,'VVS2':6 ,'VVS1':7 ,'IF':8 } }\n",
    "x.replace(handle_cut, inplace=True)\n",
    "x.replace(handle_color, inplace=True)\n",
    "x.replace(handle_clarity, inplace=True)\n",
    "\n",
    "x = x.astype(float)\n",
    "x = x.to_numpy()\n",
    "y = y.astype(float)\n",
    "y = y.to_numpy()\n",
    "\n",
    "#Modifing x to 1d array\n",
    "x_modified=np.delete(x,1,1)\n",
    "x_modified=np.delete(x_modified,1,1)\n",
    "x_modified=np.delete(x_modified,1,1)\n",
    "x_modified=np.delete(x_modified,1,1)\n",
    "x_modified=np.delete(x_modified,1,1)"
   ]
  },
  {
   "cell_type": "code",
   "execution_count": 7,
   "metadata": {},
   "outputs": [
    {
     "name": "stdout",
     "output_type": "stream",
     "text": [
      "carat:SpearmanrResult(correlation=0.9628827988813001, pvalue=0.0)\n",
      "cut:SpearmanrResult(correlation=-0.09297484475554442, pvalue=7.586662851897269e-104)\n",
      "color:SpearmanrResult(correlation=-0.15014215342958673, pvalue=2.0275054916076164e-269)\n",
      "clarity:SpearmanrResult(correlation=-0.21152748395684604, pvalue=0.0)\n",
      "depth:SpearmanrResult(correlation=0.01001966963455154, pvalue=0.019961465178476374)\n",
      "table:SpearmanrResult(correlation=0.17178447793764812, pvalue=0.0)\n",
      "x:SpearmanrResult(correlation=0.9631961087113347, pvalue=0.0)\n",
      "y:SpearmanrResult(correlation=0.9627188193892315, pvalue=0.0)\n",
      "z:SpearmanrResult(correlation=0.9572322686120687, pvalue=0.0)\n"
     ]
    }
   ],
   "source": [
    "#Correlation between features and the Diamond Price\n",
    "\n",
    "corr_carat = scipy.stats.spearmanr(y,x[:,0])\n",
    "corr_cut = scipy.stats.spearmanr(y,x[:,1])\n",
    "corr_color = scipy.stats.spearmanr(y,x[:,2])\n",
    "corr_clarity = scipy.stats.spearmanr(y,x[:,3])\n",
    "corr_depth = scipy.stats.spearmanr(y,x[:,4])\n",
    "corr_table = scipy.stats.spearmanr(y,x[:,5])\n",
    "corr_x = scipy.stats.spearmanr(y,x[:,6])\n",
    "corr_y = scipy.stats.spearmanr(y,x[:,7])\n",
    "corr_z = scipy.stats.spearmanr(y,x[:,8])\n",
    "\n",
    "print(\"carat:\" + str(corr_carat))\n",
    "print(\"cut:\" + str(corr_cut))\n",
    "print(\"color:\" + str(corr_color))\n",
    "print(\"clarity:\" + str(corr_clarity))\n",
    "print(\"depth:\" + str(corr_depth))\n",
    "print(\"table:\" + str(corr_table))\n",
    "print(\"x:\" + str(corr_x))\n",
    "print(\"y:\" + str(corr_y))\n",
    "print(\"z:\" + str(corr_z))"
   ]
  },
  {
   "cell_type": "code",
   "execution_count": 3,
   "metadata": {},
   "outputs": [],
   "source": [
    "#splitting\n",
    "train_x,test_x,train_y,test_y = train_test_split(x_modified,y, test_size=0.2, random_state=1)\n",
    "\n",
    "#modelling\n",
    "train_x = np.append(np.ones([train_x.shape[0],1]),train_x, axis=1)\n",
    "# Calculating coef by using W = (A.T * A)^(-1) * A.T * Y\n",
    "coef = np.dot(np.dot(np.linalg.inv(np.dot(train_x.T,train_x)),train_x.T),train_y)\n",
    "\n",
    "#Calculating y = W.T * X + b\n",
    "pred = np.sum((test_x*coef[1:]),axis=1)+coef[0]"
   ]
  },
  {
   "cell_type": "code",
   "execution_count": 6,
   "metadata": {},
   "outputs": [
    {
     "name": "stdout",
     "output_type": "stream",
     "text": [
      "rsquared_error: 0.8547459446154654    mae_error: 912.7301120437912    mse_error: 2257937.9498545392\n"
     ]
    }
   ],
   "source": [
    "#Defining Rsquared\n",
    "def rsquared(pred,y):\n",
    "    corr_matrix = np.corrcoef(pred,y)\n",
    "    corr = corr_matrix[0,1]\n",
    "    rsq=corr**2\n",
    "    return rsq\n",
    "\n",
    "#Calulating Errors\n",
    "rsquared_error = rsquared(pred,test_y)\n",
    "mae_error = np.sum(abs(pred - test_y))/test_y.shape[0]\n",
    "mse_error = np.sum((pred - test_y)**2)/test_y.shape[0]\n",
    "\n",
    "print(\"rsquared_error: \" + str(rsquared_error) + \"    mae_error: \" + str(mae_error) + \"    mse_error: \" + str(mse_error))"
   ]
  }
 ],
 "metadata": {
  "kernelspec": {
   "display_name": "Python 3.8.3 64-bit",
   "language": "python",
   "name": "python38364bit8e6f55aba2f541b0b5eb6cfa27dcc9bd"
  },
  "language_info": {
   "codemirror_mode": {
    "name": "ipython",
    "version": 3
   },
   "file_extension": ".py",
   "mimetype": "text/x-python",
   "name": "python",
   "nbconvert_exporter": "python",
   "pygments_lexer": "ipython3",
   "version": "3.8.3rc1"
  }
 },
 "nbformat": 4,
 "nbformat_minor": 4
}
